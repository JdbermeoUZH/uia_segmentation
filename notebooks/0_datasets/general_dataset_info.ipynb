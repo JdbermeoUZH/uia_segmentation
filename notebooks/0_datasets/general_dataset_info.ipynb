{
 "cells": [
  {
   "cell_type": "markdown",
   "metadata": {},
   "source": [
    "# General Dataset Infomation"
   ]
  },
  {
   "cell_type": "markdown",
   "metadata": {},
   "source": [
    "## Resolution"
   ]
  },
  {
   "cell_type": "markdown",
   "metadata": {},
   "source": [
    "Median voxel size:\n",
    "\n",
    " * USZ: Voxel sizes range Inplane: 0.2mm - 0.39mm, out of plane: 0.55 to 0.7 mm.\n",
    "    * Median voxel size: 0.3 × 0.3 × 0.6 mm\n",
    " * ADAM: The MRAs had an in-plane voxel spacing range of (0.195–1.04) mm and slice thickness range of (0.4–0.7) mm. \n",
    "   * Median voxel size: 0.357 mm x 0.357 mm x 0.500 mm.           \n",
    " * Laussane (subsample of 'strong' segmentations): in-plane voxel spacing range of (0.234375–0.546875) mm and slice thickness range of (0.5–0.700007) mm\n",
    "   * Median voxel size: 0.286458 mm x\t0.286458 mm\tx 0.699997\n",
    " * OASIS-3:     \n",
    "\n",
    " Adam seems to have more lower resolution MRAs"
   ]
  },
  {
   "cell_type": "markdown",
   "metadata": {},
   "source": []
  }
 ],
 "metadata": {
  "language_info": {
   "name": "python"
  }
 },
 "nbformat": 4,
 "nbformat_minor": 2
}
