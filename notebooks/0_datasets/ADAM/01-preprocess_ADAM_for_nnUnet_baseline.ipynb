{
 "cells": [
  {
   "cell_type": "code",
   "execution_count": 1,
   "metadata": {},
   "outputs": [],
   "source": [
    "import os\n",
    "import glob\n",
    "import shutil\n",
    "import zipfile\n",
    "from tqdm import tqdm\n",
    "\n",
    "import pandas as pd\n",
    "\n",
    "adam_dir = '../../../data/ADAM'\n",
    "fps = glob.glob(os.path.join(adam_dir, '*.zip'))"
   ]
  },
  {
   "cell_type": "code",
   "execution_count": 2,
   "metadata": {},
   "outputs": [],
   "source": [
    "intermediate_dir = os.path.join(adam_dir, 'extracted')\n",
    "\n",
    "output_dir = '../../../data/raw/ADAM'"
   ]
  },
  {
   "cell_type": "markdown",
   "metadata": {},
   "source": [
    "# Extract them to raw dir"
   ]
  },
  {
   "cell_type": "code",
   "execution_count": 6,
   "metadata": {},
   "outputs": [
    {
     "name": "stderr",
     "output_type": "stream",
     "text": [
      "100%|██████████| 113/113 [00:37<00:00,  2.98it/s]\n"
     ]
    }
   ],
   "source": [
    "for scan_zip_fp  in tqdm(fps):\n",
    "    scan_name = os.path.basename(scan_zip_fp).rstrip('.zip')\n",
    "    tof_scan_bias_corrected_fp = os.path.join(scan_name, 'orig', 'TOF.nii.gz')\n",
    "    aneurysm_fp = os.path.join(scan_name, 'aneurysms.nii.gz')\n",
    "    location_fp = os.path.join(scan_name, 'location.txt')\n",
    "    \n",
    "    with zipfile.ZipFile(scan_zip_fp, 'r') as zip_ref:\n",
    "        zip_ref.extract(tof_scan_bias_corrected_fp, intermediate_dir)\n",
    "        zip_ref.extract(aneurysm_fp, intermediate_dir)\n",
    "        zip_ref.extract(location_fp, intermediate_dir)\n",
    "\n",
    "    intermediate_path_tof = os.path.join(intermediate_dir, scan_name, 'orig', 'TOF.nii.gz')\n",
    "    intermediate_path_aneurysm = os.path.join(intermediate_dir, scan_name, 'aneurysms.nii.gz')\n",
    "    intermidiate_aneurysm_file_info = os.path.join(intermediate_dir, scan_name, 'location.txt')\n",
    "    \n",
    "    # Make folder for each scan\n",
    "    scan_dir_path = os.path.join(output_dir, scan_name)\n",
    "    os.makedirs(scan_dir_path, exist_ok=True)\n",
    "    \n",
    "    # copy new_path_tof to output_dir_tof\n",
    "    new_path_tof = os.path.join(scan_dir_path, f'{scan_name}_TOF.nii.gz')\n",
    "    shutil.copy(intermediate_path_tof, new_path_tof)\n",
    "\n",
    "    # copy new_path_aneurysm to output_dir_label\n",
    "    new_path_aneurysm = os.path.join(scan_dir_path, f'{scan_name}_aneurysms.nii.gz')\n",
    "    shutil.copy(intermediate_path_aneurysm, new_path_aneurysm)\n",
    "    \n",
    "    # copy intermidiate_aneurysm_file_info to output_dir_label\n",
    "    new_path_aneurysm_file_info = os.path.join(scan_dir_path, f'{scan_name}_location.txt')\n",
    "    shutil.copy(intermidiate_aneurysm_file_info, new_path_aneurysm_file_info)\n"
   ]
  },
  {
   "cell_type": "markdown",
   "metadata": {},
   "source": [
    "## Extract the bias corrected TOF scans"
   ]
  },
  {
   "cell_type": "code",
   "execution_count": 11,
   "metadata": {},
   "outputs": [
    {
     "name": "stdout",
     "output_type": "stream",
     "text": [
      "14\n",
      "15\n",
      "16\n",
      "17\n"
     ]
    }
   ],
   "source": [
    "split_dif  = 4\n",
    "start_from = 2\n",
    "split_id   = 3\n",
    "ps         = []\n",
    "for k in range(start_from + split_id * split_dif, start_from + split_dif * (split_id+1)):\n",
    "    print(k)"
   ]
  },
  {
   "cell_type": "code",
   "execution_count": 5,
   "metadata": {},
   "outputs": [],
   "source": [
    "output_dir = '../../../data/preprocessed/0_bias_corrected/ADAM'"
   ]
  },
  {
   "cell_type": "code",
   "execution_count": 6,
   "metadata": {},
   "outputs": [
    {
     "name": "stderr",
     "output_type": "stream",
     "text": [
      "100%|██████████| 113/113 [01:57<00:00,  1.04s/it]\n"
     ]
    }
   ],
   "source": [
    "for scan_zip_fp  in tqdm(fps):\n",
    "    scan_name = os.path.basename(scan_zip_fp).rstrip('.zip')\n",
    "    tof_scan_bias_corrected_fp = os.path.join(scan_name, 'pre', 'TOF.nii.gz')\n",
    "    aneurysm_fp = os.path.join(scan_name, 'aneurysms.nii.gz')\n",
    "    \n",
    "    with zipfile.ZipFile(scan_zip_fp, 'r') as zip_ref:\n",
    "        zip_ref.extract(tof_scan_bias_corrected_fp, intermediate_dir)\n",
    "        zip_ref.extract(aneurysm_fp, intermediate_dir)\n",
    "\n",
    "    intermediate_path_tof = os.path.join(intermediate_dir, scan_name, 'pre', 'TOF.nii.gz')\n",
    "    intermediate_path_aneurysm = os.path.join(intermediate_dir, scan_name, 'aneurysms.nii.gz')\n",
    "    \n",
    "    # Make folder for each scan\n",
    "    scan_dir_path = os.path.join(output_dir, scan_name)\n",
    "    os.makedirs(scan_dir_path, exist_ok=True)\n",
    "    \n",
    "    # copy new_path_tof to output_dir_tof\n",
    "    new_path_tof = os.path.join(scan_dir_path, f'{scan_name}_tof.nii.gz')\n",
    "    shutil.copy(intermediate_path_tof, new_path_tof)\n",
    "\n",
    "    # copy new_path_aneurysm to output_dir_label\n",
    "    new_path_aneurysm = os.path.join(scan_dir_path, f'{scan_name}_seg.nii.gz')\n",
    "    shutil.copy(intermediate_path_aneurysm, new_path_aneurysm)\n",
    "    \n"
   ]
  },
  {
   "cell_type": "markdown",
   "metadata": {},
   "source": [
    "## Extract them to nn_net_dir"
   ]
  },
  {
   "cell_type": "code",
   "execution_count": null,
   "metadata": {},
   "outputs": [],
   "source": [
    "intermediate_dir = os.path.join(adam_dir, 'extracted')\n",
    "\n",
    "output_dir_tof = '../../../data/nnUNet_raw/Dataset005_ADAMBinaryAneurysmOnly/imagesTr'\n",
    "output_dir_label = '../../../data/nnUNet_raw/Dataset005_ADAMBinaryAneurysmOnly/labelsTr'"
   ]
  },
  {
   "cell_type": "code",
   "execution_count": 3,
   "metadata": {},
   "outputs": [
    {
     "name": "stderr",
     "output_type": "stream",
     "text": [
      "100%|██████████| 113/113 [02:35<00:00,  1.37s/it]\n"
     ]
    }
   ],
   "source": [
    "\n",
    "for scan_zip_fp  in tqdm(fps):\n",
    "    scan_name = os.path.basename(scan_zip_fp).rstrip('.zip')\n",
    "    tof_scan_bias_corrected_fp = os.path.join(scan_name, 'pre', 'TOF.nii.gz')\n",
    "    aneurysm_fp = os.path.join(scan_name, 'aneurysms.nii.gz')\n",
    "    \n",
    "    with zipfile.ZipFile(scan_zip_fp, 'r') as zip_ref:\n",
    "        zip_ref.extract(tof_scan_bias_corrected_fp, intermediate_dir)\n",
    "        zip_ref.extract(aneurysm_fp, intermediate_dir)\n",
    "\n",
    "    intermediate_path_tof = os.path.join(intermediate_dir, scan_name, 'pre', 'TOF.nii.gz')\n",
    "    intermediate_path_aneurysm = os.path.join(intermediate_dir, scan_name, 'aneurysms.nii.gz')\n",
    "    \n",
    "\n",
    "    os.makedirs(output_dir_tof, exist_ok=True)\n",
    "    os.makedirs(output_dir_label, exist_ok=True)\n",
    "\n",
    "    # copy new_path_tof to output_dir_tof\n",
    "    new_path_tof = os.path.join(output_dir_tof, f'{scan_name}_0000.nii.gz')\n",
    "    shutil.copy(intermediate_path_tof, new_path_tof)\n",
    "\n",
    "    # copy new_path_aneurysm to output_dir_label\n",
    "    new_path_aneurysm = os.path.join(output_dir_label, f'{scan_name}.nii.gz')\n",
    "    shutil.copy(intermediate_path_aneurysm, new_path_aneurysm)\n"
   ]
  },
  {
   "cell_type": "code",
   "execution_count": 5,
   "metadata": {},
   "outputs": [],
   "source": [
    "assert len(os.listdir(output_dir_label)) == len(os.listdir(output_dir_tof)) == len(fps)"
   ]
  },
  {
   "cell_type": "code",
   "execution_count": 6,
   "metadata": {},
   "outputs": [],
   "source": [
    "rm -r $intermediate_dir"
   ]
  },
  {
   "cell_type": "markdown",
   "metadata": {},
   "source": [
    "## Create 80/20 train/holdout splits"
   ]
  },
  {
   "cell_type": "code",
   "execution_count": 7,
   "metadata": {},
   "outputs": [
    {
     "data": {
      "text/plain": [
       "['10053B',\n",
       " '10043',\n",
       " '10044B',\n",
       " '10044F',\n",
       " '10051F',\n",
       " '10047B',\n",
       " '10061B',\n",
       " '10064F',\n",
       " '10019',\n",
       " '10012',\n",
       " '10071B',\n",
       " '10052F',\n",
       " '10005',\n",
       " '10072B',\n",
       " '10059B',\n",
       " '10042',\n",
       " '10021',\n",
       " '10050B',\n",
       " '10066B',\n",
       " '10023',\n",
       " '10065B',\n",
       " '10077F',\n",
       " '10035',\n",
       " '10036',\n",
       " '10046B',\n",
       " '10074B',\n",
       " '10047F',\n",
       " '10041',\n",
       " '10051B',\n",
       " '10045B',\n",
       " '10024',\n",
       " '10064B',\n",
       " '10048B',\n",
       " '10040',\n",
       " '10055B',\n",
       " '10020',\n",
       " '10062F',\n",
       " '10057F',\n",
       " '10069B',\n",
       " '10078B',\n",
       " '10006',\n",
       " '10056B',\n",
       " '10078F',\n",
       " '10055F',\n",
       " '10029',\n",
       " '10014',\n",
       " '10003',\n",
       " '10013',\n",
       " '10010',\n",
       " '10060F',\n",
       " '10049B',\n",
       " '10059F',\n",
       " '10054F',\n",
       " '10052B',\n",
       " '10034',\n",
       " '10075F',\n",
       " '10009',\n",
       " '10070F',\n",
       " '10026',\n",
       " '10072F',\n",
       " '10037',\n",
       " '10008',\n",
       " '10074F',\n",
       " '10062B',\n",
       " '10001',\n",
       " '10038',\n",
       " '10058B',\n",
       " '10065F',\n",
       " '10031',\n",
       " '10071F',\n",
       " '10007',\n",
       " '10028',\n",
       " '10017',\n",
       " '10033',\n",
       " '10030',\n",
       " '10061F',\n",
       " '10027',\n",
       " '10032',\n",
       " '10075B',\n",
       " '10049F',\n",
       " '10004',\n",
       " '10068F',\n",
       " '10053F',\n",
       " '10045F',\n",
       " '10063F',\n",
       " '10077B',\n",
       " '10073F',\n",
       " '10048F',\n",
       " '10073B',\n",
       " '10015',\n",
       " '10076B',\n",
       " '10066F',\n",
       " '10068B',\n",
       " '10058F',\n",
       " '10070B',\n",
       " '10025',\n",
       " '10067B',\n",
       " '10056F',\n",
       " '10018',\n",
       " '10039',\n",
       " '10057B',\n",
       " '10016',\n",
       " '10063B',\n",
       " '10069F',\n",
       " '10060B',\n",
       " '10067F',\n",
       " '10050F',\n",
       " '10011',\n",
       " '10046F',\n",
       " '10076F',\n",
       " '10002',\n",
       " '10054B',\n",
       " '10022']"
      ]
     },
     "execution_count": 7,
     "metadata": {},
     "output_type": "execute_result"
    }
   ],
   "source": [
    "scans_names = os.listdir(output_dir_label)\n",
    "scans_names = [name.rstrip('.nuii.gz') for name in scans_names if name.endswith('.nii.gz')]\n",
    "scans_names"
   ]
  },
  {
   "cell_type": "code",
   "execution_count": 8,
   "metadata": {},
   "outputs": [],
   "source": [
    "import re\n",
    "\n",
    "# get patient id from scan name. It is only the numbers before the first letter\n",
    "patient_ids = [re.findall(r'\\d+', name)[0] for name in scans_names]\n",
    "\n",
    "# get the scan type from the scan name. It is the letter after the patient id\n",
    "scan_types = [name.split(patient_id)[-1] for name, patient_id in zip(scans_names, patient_ids)]\n",
    "scan_types = ['U' if scan_type == '' else scan_type for scan_type in scan_types]"
   ]
  },
  {
   "cell_type": "code",
   "execution_count": 9,
   "metadata": {},
   "outputs": [],
   "source": [
    "df = pd.DataFrame({'patient_id': patient_ids, 'scan_type': scan_types})"
   ]
  },
  {
   "cell_type": "code",
   "execution_count": 10,
   "metadata": {},
   "outputs": [],
   "source": [
    "df['two_scans'] = df.scan_type.isin(['B', 'F'])"
   ]
  },
  {
   "cell_type": "code",
   "execution_count": 11,
   "metadata": {},
   "outputs": [],
   "source": [
    "# Do a stratified sampling of 80% and stratify on patient_id and two_scans\n",
    "train_df = df[['patient_id', 'two_scans']].drop_duplicates().groupby(['two_scans']).sample(frac=0.8, random_state=42)"
   ]
  },
  {
   "cell_type": "code",
   "execution_count": 12,
   "metadata": {},
   "outputs": [
    {
     "data": {
      "text/plain": [
       "two_scans\n",
       "False    34\n",
       "True     28\n",
       "Name: count, dtype: int64"
      ]
     },
     "execution_count": 12,
     "metadata": {},
     "output_type": "execute_result"
    }
   ],
   "source": [
    "train_df.value_counts('two_scans')"
   ]
  },
  {
   "cell_type": "code",
   "execution_count": 13,
   "metadata": {},
   "outputs": [],
   "source": [
    "train_df.set_index('patient_id', inplace=True)\n",
    "df.set_index('patient_id', inplace=True)"
   ]
  },
  {
   "cell_type": "code",
   "execution_count": 14,
   "metadata": {},
   "outputs": [],
   "source": [
    "train_df = train_df.join(df, how='inner', rsuffix='_').drop(columns=['two_scans_'])"
   ]
  },
  {
   "cell_type": "code",
   "execution_count": 15,
   "metadata": {},
   "outputs": [
    {
     "data": {
      "text/html": [
       "<div>\n",
       "<style scoped>\n",
       "    .dataframe tbody tr th:only-of-type {\n",
       "        vertical-align: middle;\n",
       "    }\n",
       "\n",
       "    .dataframe tbody tr th {\n",
       "        vertical-align: top;\n",
       "    }\n",
       "\n",
       "    .dataframe thead th {\n",
       "        text-align: right;\n",
       "    }\n",
       "</style>\n",
       "<table border=\"1\" class=\"dataframe\">\n",
       "  <thead>\n",
       "    <tr style=\"text-align: right;\">\n",
       "      <th></th>\n",
       "      <th>two_scans</th>\n",
       "      <th>scan_type</th>\n",
       "    </tr>\n",
       "    <tr>\n",
       "      <th>patient_id</th>\n",
       "      <th></th>\n",
       "      <th></th>\n",
       "    </tr>\n",
       "  </thead>\n",
       "  <tbody>\n",
       "    <tr>\n",
       "      <th>10001</th>\n",
       "      <td>False</td>\n",
       "      <td>U</td>\n",
       "    </tr>\n",
       "    <tr>\n",
       "      <th>10002</th>\n",
       "      <td>False</td>\n",
       "      <td>U</td>\n",
       "    </tr>\n",
       "    <tr>\n",
       "      <th>10003</th>\n",
       "      <td>False</td>\n",
       "      <td>U</td>\n",
       "    </tr>\n",
       "    <tr>\n",
       "      <th>10004</th>\n",
       "      <td>False</td>\n",
       "      <td>U</td>\n",
       "    </tr>\n",
       "    <tr>\n",
       "      <th>10005</th>\n",
       "      <td>False</td>\n",
       "      <td>U</td>\n",
       "    </tr>\n",
       "    <tr>\n",
       "      <th>...</th>\n",
       "      <td>...</td>\n",
       "      <td>...</td>\n",
       "    </tr>\n",
       "    <tr>\n",
       "      <th>10075</th>\n",
       "      <td>True</td>\n",
       "      <td>B</td>\n",
       "    </tr>\n",
       "    <tr>\n",
       "      <th>10076</th>\n",
       "      <td>True</td>\n",
       "      <td>B</td>\n",
       "    </tr>\n",
       "    <tr>\n",
       "      <th>10076</th>\n",
       "      <td>True</td>\n",
       "      <td>F</td>\n",
       "    </tr>\n",
       "    <tr>\n",
       "      <th>10078</th>\n",
       "      <td>True</td>\n",
       "      <td>B</td>\n",
       "    </tr>\n",
       "    <tr>\n",
       "      <th>10078</th>\n",
       "      <td>True</td>\n",
       "      <td>F</td>\n",
       "    </tr>\n",
       "  </tbody>\n",
       "</table>\n",
       "<p>90 rows × 2 columns</p>\n",
       "</div>"
      ],
      "text/plain": [
       "            two_scans scan_type\n",
       "patient_id                     \n",
       "10001           False         U\n",
       "10002           False         U\n",
       "10003           False         U\n",
       "10004           False         U\n",
       "10005           False         U\n",
       "...               ...       ...\n",
       "10075            True         B\n",
       "10076            True         B\n",
       "10076            True         F\n",
       "10078            True         B\n",
       "10078            True         F\n",
       "\n",
       "[90 rows x 2 columns]"
      ]
     },
     "execution_count": 15,
     "metadata": {},
     "output_type": "execute_result"
    }
   ],
   "source": [
    "train_df"
   ]
  },
  {
   "cell_type": "code",
   "execution_count": 16,
   "metadata": {},
   "outputs": [],
   "source": [
    "test_df = df.drop(train_df.index)"
   ]
  },
  {
   "cell_type": "code",
   "execution_count": 17,
   "metadata": {},
   "outputs": [
    {
     "data": {
      "text/plain": [
       "23"
      ]
     },
     "execution_count": 17,
     "metadata": {},
     "output_type": "execute_result"
    }
   ],
   "source": [
    "len(test_df)"
   ]
  },
  {
   "cell_type": "code",
   "execution_count": 18,
   "metadata": {},
   "outputs": [],
   "source": [
    "assert len(test_df) + len(train_df) == len(df)\n",
    "assert test_df.index.isin(train_df.index).sum() == 0"
   ]
  },
  {
   "cell_type": "markdown",
   "metadata": {},
   "source": [
    "### Let's move the test_df tof and label volumes to a new folder"
   ]
  },
  {
   "cell_type": "code",
   "execution_count": 19,
   "metadata": {},
   "outputs": [
    {
     "data": {
      "text/plain": [
       "'../../../data/nnUNet_raw/Dataset005_ADAMBinaryAneurysmOnly/imagesTr'"
      ]
     },
     "execution_count": 19,
     "metadata": {},
     "output_type": "execute_result"
    }
   ],
   "source": [
    "output_dir_tof"
   ]
  },
  {
   "cell_type": "code",
   "execution_count": 20,
   "metadata": {},
   "outputs": [
    {
     "name": "stderr",
     "output_type": "stream",
     "text": [
      "mv: cannot stat '../../../data/nnUNet_raw/Dataset005_ADAMBinaryAneurysmOnly/imagesTr/10047*': No such file or directory\n",
      "mv: cannot stat '../../../data/nnUNet_raw/Dataset005_ADAMBinaryAneurysmOnly/labelsTr/10047*': No such file or directory\n",
      "mv: cannot stat '../../../data/nnUNet_raw/Dataset005_ADAMBinaryAneurysmOnly/imagesTr/10072*': No such file or directory\n",
      "mv: cannot stat '../../../data/nnUNet_raw/Dataset005_ADAMBinaryAneurysmOnly/labelsTr/10072*': No such file or directory\n",
      "mv: cannot stat '../../../data/nnUNet_raw/Dataset005_ADAMBinaryAneurysmOnly/imagesTr/10049*': No such file or directory\n",
      "mv: cannot stat '../../../data/nnUNet_raw/Dataset005_ADAMBinaryAneurysmOnly/labelsTr/10049*': No such file or directory\n",
      "mv: cannot stat '../../../data/nnUNet_raw/Dataset005_ADAMBinaryAneurysmOnly/imagesTr/10077*': No such file or directory\n",
      "mv: cannot stat '../../../data/nnUNet_raw/Dataset005_ADAMBinaryAneurysmOnly/labelsTr/10077*': No such file or directory\n",
      "mv: cannot stat '../../../data/nnUNet_raw/Dataset005_ADAMBinaryAneurysmOnly/imagesTr/10048*': No such file or directory\n",
      "mv: cannot stat '../../../data/nnUNet_raw/Dataset005_ADAMBinaryAneurysmOnly/labelsTr/10048*': No such file or directory\n",
      "mv: cannot stat '../../../data/nnUNet_raw/Dataset005_ADAMBinaryAneurysmOnly/imagesTr/10068*': No such file or directory\n",
      "mv: cannot stat '../../../data/nnUNet_raw/Dataset005_ADAMBinaryAneurysmOnly/labelsTr/10068*': No such file or directory\n",
      "mv: cannot stat '../../../data/nnUNet_raw/Dataset005_ADAMBinaryAneurysmOnly/imagesTr/10060*': No such file or directory\n",
      "mv: cannot stat '../../../data/nnUNet_raw/Dataset005_ADAMBinaryAneurysmOnly/labelsTr/10060*': No such file or directory\n"
     ]
    }
   ],
   "source": [
    "os.makedirs('../../../data/nnUNet_raw/Dataset005_ADAMBinaryAneurysmOnly/imagesTs', exist_ok=True)\n",
    "os.makedirs('../../../data/nnUNet_raw/Dataset005_ADAMBinaryAneurysmOnly/labelsTs', exist_ok=True)\n",
    "\n",
    "for scan_id in test_df.index:\n",
    "    os.system(f'mv {output_dir_tof}/{scan_id}* ../../../data/nnUNet_raw/Dataset005_ADAMBinaryAneurysmOnly/imagesTs/')\n",
    "    os.system(f'mv {output_dir_label}/{scan_id}* ../../../data/nnUNet_raw/Dataset005_ADAMBinaryAneurysmOnly/labelsTs/')"
   ]
  },
  {
   "cell_type": "code",
   "execution_count": null,
   "metadata": {},
   "outputs": [
    {
     "data": {
      "text/plain": [
       "23"
      ]
     },
     "execution_count": 24,
     "metadata": {},
     "output_type": "execute_result"
    }
   ],
   "source": [
    "len(test_df)"
   ]
  },
  {
   "cell_type": "code",
   "execution_count": null,
   "metadata": {},
   "outputs": [
    {
     "data": {
      "text/html": [
       "<div>\n",
       "<style scoped>\n",
       "    .dataframe tbody tr th:only-of-type {\n",
       "        vertical-align: middle;\n",
       "    }\n",
       "\n",
       "    .dataframe tbody tr th {\n",
       "        vertical-align: top;\n",
       "    }\n",
       "\n",
       "    .dataframe thead th {\n",
       "        text-align: right;\n",
       "    }\n",
       "</style>\n",
       "<table border=\"1\" class=\"dataframe\">\n",
       "  <thead>\n",
       "    <tr style=\"text-align: right;\">\n",
       "      <th></th>\n",
       "      <th>scan_type</th>\n",
       "      <th>two_scans</th>\n",
       "    </tr>\n",
       "    <tr>\n",
       "      <th>patient_id</th>\n",
       "      <th></th>\n",
       "      <th></th>\n",
       "    </tr>\n",
       "  </thead>\n",
       "  <tbody>\n",
       "    <tr>\n",
       "      <th>10009</th>\n",
       "      <td>U</td>\n",
       "      <td>False</td>\n",
       "    </tr>\n",
       "    <tr>\n",
       "      <th>10010</th>\n",
       "      <td>U</td>\n",
       "      <td>False</td>\n",
       "    </tr>\n",
       "    <tr>\n",
       "      <th>10015</th>\n",
       "      <td>U</td>\n",
       "      <td>False</td>\n",
       "    </tr>\n",
       "    <tr>\n",
       "      <th>10024</th>\n",
       "      <td>U</td>\n",
       "      <td>False</td>\n",
       "    </tr>\n",
       "    <tr>\n",
       "      <th>10028</th>\n",
       "      <td>U</td>\n",
       "      <td>False</td>\n",
       "    </tr>\n",
       "    <tr>\n",
       "      <th>10029</th>\n",
       "      <td>U</td>\n",
       "      <td>False</td>\n",
       "    </tr>\n",
       "    <tr>\n",
       "      <th>10035</th>\n",
       "      <td>U</td>\n",
       "      <td>False</td>\n",
       "    </tr>\n",
       "    <tr>\n",
       "      <th>10037</th>\n",
       "      <td>U</td>\n",
       "      <td>False</td>\n",
       "    </tr>\n",
       "    <tr>\n",
       "      <th>10039</th>\n",
       "      <td>U</td>\n",
       "      <td>False</td>\n",
       "    </tr>\n",
       "    <tr>\n",
       "      <th>10047</th>\n",
       "      <td>B</td>\n",
       "      <td>True</td>\n",
       "    </tr>\n",
       "    <tr>\n",
       "      <th>10047</th>\n",
       "      <td>F</td>\n",
       "      <td>True</td>\n",
       "    </tr>\n",
       "    <tr>\n",
       "      <th>10048</th>\n",
       "      <td>B</td>\n",
       "      <td>True</td>\n",
       "    </tr>\n",
       "    <tr>\n",
       "      <th>10048</th>\n",
       "      <td>F</td>\n",
       "      <td>True</td>\n",
       "    </tr>\n",
       "    <tr>\n",
       "      <th>10049</th>\n",
       "      <td>B</td>\n",
       "      <td>True</td>\n",
       "    </tr>\n",
       "    <tr>\n",
       "      <th>10049</th>\n",
       "      <td>F</td>\n",
       "      <td>True</td>\n",
       "    </tr>\n",
       "    <tr>\n",
       "      <th>10060</th>\n",
       "      <td>F</td>\n",
       "      <td>True</td>\n",
       "    </tr>\n",
       "    <tr>\n",
       "      <th>10060</th>\n",
       "      <td>B</td>\n",
       "      <td>True</td>\n",
       "    </tr>\n",
       "    <tr>\n",
       "      <th>10068</th>\n",
       "      <td>F</td>\n",
       "      <td>True</td>\n",
       "    </tr>\n",
       "    <tr>\n",
       "      <th>10068</th>\n",
       "      <td>B</td>\n",
       "      <td>True</td>\n",
       "    </tr>\n",
       "    <tr>\n",
       "      <th>10072</th>\n",
       "      <td>F</td>\n",
       "      <td>True</td>\n",
       "    </tr>\n",
       "    <tr>\n",
       "      <th>10072</th>\n",
       "      <td>B</td>\n",
       "      <td>True</td>\n",
       "    </tr>\n",
       "    <tr>\n",
       "      <th>10077</th>\n",
       "      <td>F</td>\n",
       "      <td>True</td>\n",
       "    </tr>\n",
       "    <tr>\n",
       "      <th>10077</th>\n",
       "      <td>B</td>\n",
       "      <td>True</td>\n",
       "    </tr>\n",
       "  </tbody>\n",
       "</table>\n",
       "</div>"
      ],
      "text/plain": [
       "           scan_type  two_scans\n",
       "patient_id                     \n",
       "10009              U      False\n",
       "10010              U      False\n",
       "10015              U      False\n",
       "10024              U      False\n",
       "10028              U      False\n",
       "10029              U      False\n",
       "10035              U      False\n",
       "10037              U      False\n",
       "10039              U      False\n",
       "10047              B       True\n",
       "10047              F       True\n",
       "10048              B       True\n",
       "10048              F       True\n",
       "10049              B       True\n",
       "10049              F       True\n",
       "10060              F       True\n",
       "10060              B       True\n",
       "10068              F       True\n",
       "10068              B       True\n",
       "10072              F       True\n",
       "10072              B       True\n",
       "10077              F       True\n",
       "10077              B       True"
      ]
     },
     "execution_count": 28,
     "metadata": {},
     "output_type": "execute_result"
    }
   ],
   "source": [
    "test_df.sort_index()"
   ]
  },
  {
   "cell_type": "code",
   "execution_count": 22,
   "metadata": {},
   "outputs": [
    {
     "data": {
      "text/plain": [
       "23"
      ]
     },
     "execution_count": 22,
     "metadata": {},
     "output_type": "execute_result"
    }
   ],
   "source": [
    "len(os.listdir('../../../data/nnUNet_raw/Dataset005_ADAMBinaryAneurysmOnly/imagesTs/'))"
   ]
  },
  {
   "cell_type": "code",
   "execution_count": 23,
   "metadata": {},
   "outputs": [
    {
     "data": {
      "text/plain": [
       "23"
      ]
     },
     "execution_count": 23,
     "metadata": {},
     "output_type": "execute_result"
    }
   ],
   "source": [
    "len(os.listdir('../../../data/nnUNet_raw/Dataset005_ADAMBinaryAneurysmOnly/labelsTs/'))"
   ]
  },
  {
   "cell_type": "markdown",
   "metadata": {},
   "source": [
    "### Let's verify images were distributed correctly in each set "
   ]
  },
  {
   "cell_type": "markdown",
   "metadata": {},
   "source": [
    "#### trainset"
   ]
  },
  {
   "cell_type": "code",
   "execution_count": 40,
   "metadata": {},
   "outputs": [],
   "source": [
    "full_image_ids = train_df.reset_index().apply(lambda row: str(row['patient_id']) + str(row['scan_type'] if row['scan_type'] != 'U' else ''), axis=1)"
   ]
  },
  {
   "cell_type": "code",
   "execution_count": 45,
   "metadata": {},
   "outputs": [],
   "source": [
    "for image_id in full_image_ids:\n",
    "    # Check they are in the trainset\n",
    "    assert os.path.exists(os.path.join('../../../data/nnUNet_raw/Dataset005_ADAMBinaryAneurysmOnly/imagesTr', f'{image_id}_0000.nii.gz'))\n",
    "    assert os.path.exists(os.path.join('../../../data/nnUNet_raw/Dataset005_ADAMBinaryAneurysmOnly/labelsTr', f'{image_id}.nii.gz'))\n",
    "    \n",
    "    # Check they are not in the testset\n",
    "    assert not os.path.exists(os.path.join('../../../data/nnUNet_raw/Dataset005_ADAMBinaryAneurysmOnly/imagesTs', f'{image_id}_0000.nii.gz'))\n",
    "    assert not os.path.exists(os.path.join('../../../data/nnUNet_raw/Dataset005_ADAMBinaryAneurysmOnly/labelsTs', f'{image_id}.nii.gz'))"
   ]
  },
  {
   "cell_type": "markdown",
   "metadata": {},
   "source": [
    "#### Testset"
   ]
  },
  {
   "cell_type": "code",
   "execution_count": 48,
   "metadata": {},
   "outputs": [
    {
     "name": "stdout",
     "output_type": "stream",
     "text": [
      "23\n"
     ]
    }
   ],
   "source": [
    "full_image_ids = test_df.reset_index().apply(lambda row: str(row['patient_id']) + str(row['scan_type'] if row['scan_type'] != 'U' else ''), axis=1)\n",
    "print(len(full_image_ids))"
   ]
  },
  {
   "cell_type": "code",
   "execution_count": 49,
   "metadata": {},
   "outputs": [],
   "source": [
    "for image_id in full_image_ids:\n",
    "    # Check they are in the not trainset\n",
    "    assert not os.path.exists(os.path.join('../../../data/nnUNet_raw/Dataset005_ADAMBinaryAneurysmOnly/imagesTr', f'{image_id}_0000.nii.gz'))\n",
    "    assert not os.path.exists(os.path.join('../../../data/nnUNet_raw/Dataset005_ADAMBinaryAneurysmOnly/labelsTr', f'{image_id}.nii.gz'))\n",
    "    \n",
    "    # Check they are in the testset\n",
    "    assert os.path.exists(os.path.join('../../../data/nnUNet_raw/Dataset005_ADAMBinaryAneurysmOnly/imagesTs', f'{image_id}_0000.nii.gz'))\n",
    "    assert os.path.exists(os.path.join('../../../data/nnUNet_raw/Dataset005_ADAMBinaryAneurysmOnly/labelsTs', f'{image_id}.nii.gz'))"
   ]
  },
  {
   "cell_type": "markdown",
   "metadata": {},
   "source": [
    "If you reach this point, it's all good!"
   ]
  }
 ],
 "metadata": {
  "kernelspec": {
   "display_name": "nnUnet_dev",
   "language": "python",
   "name": "python3"
  },
  "language_info": {
   "codemirror_mode": {
    "name": "ipython",
    "version": 3
   },
   "file_extension": ".py",
   "mimetype": "text/x-python",
   "name": "python",
   "nbconvert_exporter": "python",
   "pygments_lexer": "ipython3",
   "version": "3.9.18"
  }
 },
 "nbformat": 4,
 "nbformat_minor": 2
}
