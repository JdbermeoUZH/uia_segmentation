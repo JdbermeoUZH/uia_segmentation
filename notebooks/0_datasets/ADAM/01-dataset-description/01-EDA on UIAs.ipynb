{
 "cells": [
  {
   "cell_type": "code",
   "execution_count": 3,
   "id": "6978fe0e",
   "metadata": {},
   "outputs": [],
   "source": [
    "import os\n",
    "import sys\n",
    "import glob\n",
    "import json\n",
    "import tqdm\n",
    "\n",
    "import numpy as np\n",
    "import pandas as pd\n",
    "import nibabel as nib\n",
    "\n",
    "sys.path.append(os.path.join(\"..\", \"..\", \"..\"))\n",
    "from tta_uia_segmentation.src.preprocessing.utils import get_ADAM_filepaths_raw"
   ]
  },
  {
   "cell_type": "markdown",
   "id": "5944803b0d142041",
   "metadata": {
    "collapsed": false
   },
   "source": [
    "# 01 - General Description and some statistics of the Dataset"
   ]
  },
  {
   "cell_type": "markdown",
   "id": "f67702bb",
   "metadata": {},
   "source": [
    "## 1.0 Generate csv file with basic information per image\n",
    " - voxel size\n",
    " - field of view\n",
    " - volume of aneurysm class"
   ]
  },
  {
   "cell_type": "code",
   "execution_count": 4,
   "id": "882e0f56",
   "metadata": {},
   "outputs": [],
   "source": [
    "tof_data_dir = '../../../../data/raw/ADAM/'\n",
    "scans_dp_dict = get_ADAM_filepaths_raw(tof_data_dir)\n",
    "len(scans_dp_dict)"
   ]
  },
  {
   "cell_type": "code",
   "execution_count": 8,
   "id": "c11bf0c6",
   "metadata": {},
   "outputs": [
    {
     "name": "stderr",
     "output_type": "stream",
     "text": [
      "100%|██████████| 113/113 [00:21<00:00,  5.18it/s]\n"
     ]
    }
   ],
   "source": [
    "aneurysm_label = 1\n",
    "basic_desc = []\n",
    "for image_name, fp_info in tqdm.tqdm(scans_dp_dict.items()):\n",
    "    \n",
    "    img_fp = fp_info['tof']\n",
    "    label_fp = fp_info['seg']\n",
    "    \n",
    "    #print('processing image: ', image_name,  end='\\r')\n",
    "    \n",
    "    # load nift image\n",
    "    img = nib.load(img_fp)\n",
    "    aneurysm_mask = nib.load(label_fp)\n",
    "    \n",
    "    # Get voxel_size_in each dimension\n",
    "    y_size, x_size, z_size = img.header.get_zooms()\n",
    "    \n",
    "    # Get field of view in each dimension\n",
    "    y_fov = y_size * img.shape[0]\n",
    "    x_fov = x_size * img.shape[1]\n",
    "    z_fov = z_size * img.shape[2]\n",
    "    \n",
    "    # Volume of the aneurysm\n",
    "    aneurysm_volume = np.sum(aneurysm_mask.get_fdata() == aneurysm_label) * y_size * x_size * z_size\n",
    "    \n",
    "    # Total volume of the image\n",
    "    total_volume = y_fov * x_fov * z_fov\n",
    "    \n",
    "    basic_desc.append(\n",
    "        {\n",
    "            'img_name': image_name,\n",
    "            'y_size': y_size,\n",
    "            'x_size': x_size,\n",
    "            'z_size': z_size,\n",
    "            'y_fov': y_fov,\n",
    "            'x_fov': x_fov,\n",
    "            'z_fov': z_fov,\n",
    "            'aneurysm_volume': aneurysm_volume,\n",
    "            'total_fov': total_volume,\n",
    "        }\n",
    "    )"
   ]
  },
  {
   "cell_type": "code",
   "execution_count": 9,
   "id": "9b721f53",
   "metadata": {},
   "outputs": [
    {
     "data": {
      "text/html": [
       "<div>\n",
       "<style scoped>\n",
       "    .dataframe tbody tr th:only-of-type {\n",
       "        vertical-align: middle;\n",
       "    }\n",
       "\n",
       "    .dataframe tbody tr th {\n",
       "        vertical-align: top;\n",
       "    }\n",
       "\n",
       "    .dataframe thead th {\n",
       "        text-align: right;\n",
       "    }\n",
       "</style>\n",
       "<table border=\"1\" class=\"dataframe\">\n",
       "  <thead>\n",
       "    <tr style=\"text-align: right;\">\n",
       "      <th></th>\n",
       "      <th>y_size</th>\n",
       "      <th>x_size</th>\n",
       "      <th>z_size</th>\n",
       "      <th>y_fov</th>\n",
       "      <th>x_fov</th>\n",
       "      <th>z_fov</th>\n",
       "      <th>aneurysm_volume</th>\n",
       "      <th>total_fov</th>\n",
       "    </tr>\n",
       "    <tr>\n",
       "      <th>img_name</th>\n",
       "      <th></th>\n",
       "      <th></th>\n",
       "      <th></th>\n",
       "      <th></th>\n",
       "      <th></th>\n",
       "      <th></th>\n",
       "      <th></th>\n",
       "      <th></th>\n",
       "    </tr>\n",
       "  </thead>\n",
       "  <tbody>\n",
       "    <tr>\n",
       "      <th>10001</th>\n",
       "      <td>0.357143</td>\n",
       "      <td>0.357143</td>\n",
       "      <td>0.499999</td>\n",
       "      <td>200.000005</td>\n",
       "      <td>200.000005</td>\n",
       "      <td>69.999917</td>\n",
       "      <td>0.000000</td>\n",
       "      <td>2.799997e+06</td>\n",
       "    </tr>\n",
       "    <tr>\n",
       "      <th>10002</th>\n",
       "      <td>0.357143</td>\n",
       "      <td>0.357143</td>\n",
       "      <td>0.500000</td>\n",
       "      <td>200.000005</td>\n",
       "      <td>200.000005</td>\n",
       "      <td>69.999946</td>\n",
       "      <td>0.000000</td>\n",
       "      <td>2.799998e+06</td>\n",
       "    </tr>\n",
       "    <tr>\n",
       "      <th>10003</th>\n",
       "      <td>0.357143</td>\n",
       "      <td>0.357143</td>\n",
       "      <td>0.499999</td>\n",
       "      <td>200.000005</td>\n",
       "      <td>200.000005</td>\n",
       "      <td>69.999892</td>\n",
       "      <td>0.000000</td>\n",
       "      <td>2.799996e+06</td>\n",
       "    </tr>\n",
       "    <tr>\n",
       "      <th>10004</th>\n",
       "      <td>0.357143</td>\n",
       "      <td>0.357143</td>\n",
       "      <td>0.500000</td>\n",
       "      <td>200.000005</td>\n",
       "      <td>200.000005</td>\n",
       "      <td>70.000033</td>\n",
       "      <td>0.000000</td>\n",
       "      <td>2.800001e+06</td>\n",
       "    </tr>\n",
       "    <tr>\n",
       "      <th>10005</th>\n",
       "      <td>0.357143</td>\n",
       "      <td>0.357143</td>\n",
       "      <td>0.500000</td>\n",
       "      <td>200.000005</td>\n",
       "      <td>200.000005</td>\n",
       "      <td>69.999937</td>\n",
       "      <td>0.000000</td>\n",
       "      <td>2.799998e+06</td>\n",
       "    </tr>\n",
       "    <tr>\n",
       "      <th>...</th>\n",
       "      <td>...</td>\n",
       "      <td>...</td>\n",
       "      <td>...</td>\n",
       "      <td>...</td>\n",
       "      <td>...</td>\n",
       "      <td>...</td>\n",
       "      <td>...</td>\n",
       "      <td>...</td>\n",
       "    </tr>\n",
       "    <tr>\n",
       "      <th>10076F</th>\n",
       "      <td>0.195312</td>\n",
       "      <td>0.195312</td>\n",
       "      <td>0.499996</td>\n",
       "      <td>200.000000</td>\n",
       "      <td>200.000000</td>\n",
       "      <td>79.999328</td>\n",
       "      <td>38.547192</td>\n",
       "      <td>3.199973e+06</td>\n",
       "    </tr>\n",
       "    <tr>\n",
       "      <th>10077B</th>\n",
       "      <td>0.390625</td>\n",
       "      <td>0.390625</td>\n",
       "      <td>0.499999</td>\n",
       "      <td>200.000000</td>\n",
       "      <td>200.000000</td>\n",
       "      <td>69.999841</td>\n",
       "      <td>4.501333</td>\n",
       "      <td>2.799994e+06</td>\n",
       "    </tr>\n",
       "    <tr>\n",
       "      <th>10077F</th>\n",
       "      <td>0.357143</td>\n",
       "      <td>0.357143</td>\n",
       "      <td>0.550002</td>\n",
       "      <td>200.000005</td>\n",
       "      <td>200.000005</td>\n",
       "      <td>77.000302</td>\n",
       "      <td>3.788280</td>\n",
       "      <td>3.080012e+06</td>\n",
       "    </tr>\n",
       "    <tr>\n",
       "      <th>10078B</th>\n",
       "      <td>0.312500</td>\n",
       "      <td>0.312500</td>\n",
       "      <td>1.000000</td>\n",
       "      <td>160.000000</td>\n",
       "      <td>160.000000</td>\n",
       "      <td>63.999985</td>\n",
       "      <td>126.855439</td>\n",
       "      <td>1.638400e+06</td>\n",
       "    </tr>\n",
       "    <tr>\n",
       "      <th>10078F</th>\n",
       "      <td>0.357143</td>\n",
       "      <td>0.357143</td>\n",
       "      <td>0.500003</td>\n",
       "      <td>200.000005</td>\n",
       "      <td>200.000005</td>\n",
       "      <td>70.000384</td>\n",
       "      <td>105.740381</td>\n",
       "      <td>2.800015e+06</td>\n",
       "    </tr>\n",
       "  </tbody>\n",
       "</table>\n",
       "<p>113 rows × 8 columns</p>\n",
       "</div>"
      ],
      "text/plain": [
       "            y_size    x_size    z_size       y_fov       x_fov      z_fov  \\\n",
       "img_name                                                                    \n",
       "10001     0.357143  0.357143  0.499999  200.000005  200.000005  69.999917   \n",
       "10002     0.357143  0.357143  0.500000  200.000005  200.000005  69.999946   \n",
       "10003     0.357143  0.357143  0.499999  200.000005  200.000005  69.999892   \n",
       "10004     0.357143  0.357143  0.500000  200.000005  200.000005  70.000033   \n",
       "10005     0.357143  0.357143  0.500000  200.000005  200.000005  69.999937   \n",
       "...            ...       ...       ...         ...         ...        ...   \n",
       "10076F    0.195312  0.195312  0.499996  200.000000  200.000000  79.999328   \n",
       "10077B    0.390625  0.390625  0.499999  200.000000  200.000000  69.999841   \n",
       "10077F    0.357143  0.357143  0.550002  200.000005  200.000005  77.000302   \n",
       "10078B    0.312500  0.312500  1.000000  160.000000  160.000000  63.999985   \n",
       "10078F    0.357143  0.357143  0.500003  200.000005  200.000005  70.000384   \n",
       "\n",
       "          aneurysm_volume     total_fov  \n",
       "img_name                                 \n",
       "10001            0.000000  2.799997e+06  \n",
       "10002            0.000000  2.799998e+06  \n",
       "10003            0.000000  2.799996e+06  \n",
       "10004            0.000000  2.800001e+06  \n",
       "10005            0.000000  2.799998e+06  \n",
       "...                   ...           ...  \n",
       "10076F          38.547192  3.199973e+06  \n",
       "10077B           4.501333  2.799994e+06  \n",
       "10077F           3.788280  3.080012e+06  \n",
       "10078B         126.855439  1.638400e+06  \n",
       "10078F         105.740381  2.800015e+06  \n",
       "\n",
       "[113 rows x 8 columns]"
      ]
     },
     "execution_count": 9,
     "metadata": {},
     "output_type": "execute_result"
    }
   ],
   "source": [
    "basic_desc_df = pd.DataFrame(basic_desc).set_index('img_name').sort_index()\n",
    "basic_desc_df.to_csv('basic_info_ADAM.csv')\n",
    "basic_desc_df"
   ]
  },
  {
   "cell_type": "code",
   "execution_count": 10,
   "id": "1e4a90c3",
   "metadata": {},
   "outputs": [],
   "source": [
    "basic_desc_df = pd.read_csv('basic_info_ADAM.csv', index_col='img_name')"
   ]
  },
  {
   "cell_type": "markdown",
   "id": "833c7adb",
   "metadata": {},
   "source": [
    "### What is the distribution of resolutions of the scans\n"
   ]
  },
  {
   "cell_type": "code",
   "execution_count": 11,
   "id": "1a525e17",
   "metadata": {},
   "outputs": [
    {
     "data": {
      "text/html": [
       "<div>\n",
       "<style scoped>\n",
       "    .dataframe tbody tr th:only-of-type {\n",
       "        vertical-align: middle;\n",
       "    }\n",
       "\n",
       "    .dataframe tbody tr th {\n",
       "        vertical-align: top;\n",
       "    }\n",
       "\n",
       "    .dataframe thead th {\n",
       "        text-align: right;\n",
       "    }\n",
       "</style>\n",
       "<table border=\"1\" class=\"dataframe\">\n",
       "  <thead>\n",
       "    <tr style=\"text-align: right;\">\n",
       "      <th></th>\n",
       "      <th>y_size</th>\n",
       "      <th>x_size</th>\n",
       "      <th>z_size</th>\n",
       "    </tr>\n",
       "  </thead>\n",
       "  <tbody>\n",
       "    <tr>\n",
       "      <th>count</th>\n",
       "      <td>113.000000</td>\n",
       "      <td>113.000000</td>\n",
       "      <td>113.000000</td>\n",
       "    </tr>\n",
       "    <tr>\n",
       "      <th>mean</th>\n",
       "      <td>0.352362</td>\n",
       "      <td>0.352362</td>\n",
       "      <td>0.544688</td>\n",
       "    </tr>\n",
       "    <tr>\n",
       "      <th>std</th>\n",
       "      <td>0.056936</td>\n",
       "      <td>0.056936</td>\n",
       "      <td>0.092424</td>\n",
       "    </tr>\n",
       "    <tr>\n",
       "      <th>min</th>\n",
       "      <td>0.195312</td>\n",
       "      <td>0.195312</td>\n",
       "      <td>0.400000</td>\n",
       "    </tr>\n",
       "    <tr>\n",
       "      <th>25%</th>\n",
       "      <td>0.312500</td>\n",
       "      <td>0.312500</td>\n",
       "      <td>0.499999</td>\n",
       "    </tr>\n",
       "    <tr>\n",
       "      <th>50%</th>\n",
       "      <td>0.357143</td>\n",
       "      <td>0.357143</td>\n",
       "      <td>0.500000</td>\n",
       "    </tr>\n",
       "    <tr>\n",
       "      <th>75%</th>\n",
       "      <td>0.390625</td>\n",
       "      <td>0.390625</td>\n",
       "      <td>0.550000</td>\n",
       "    </tr>\n",
       "    <tr>\n",
       "      <th>max</th>\n",
       "      <td>0.585938</td>\n",
       "      <td>0.585938</td>\n",
       "      <td>1.000000</td>\n",
       "    </tr>\n",
       "  </tbody>\n",
       "</table>\n",
       "</div>"
      ],
      "text/plain": [
       "           y_size      x_size      z_size\n",
       "count  113.000000  113.000000  113.000000\n",
       "mean     0.352362    0.352362    0.544688\n",
       "std      0.056936    0.056936    0.092424\n",
       "min      0.195312    0.195312    0.400000\n",
       "25%      0.312500    0.312500    0.499999\n",
       "50%      0.357143    0.357143    0.500000\n",
       "75%      0.390625    0.390625    0.550000\n",
       "max      0.585938    0.585938    1.000000"
      ]
     },
     "execution_count": 11,
     "metadata": {},
     "output_type": "execute_result"
    }
   ],
   "source": [
    "basic_desc_df[['y_size', 'x_size', 'z_size']].describe()"
   ]
  },
  {
   "cell_type": "code",
   "execution_count": 13,
   "id": "9c63483b",
   "metadata": {},
   "outputs": [
    {
     "data": {
      "image/png": "[encoded data removed]",
      "text/plain": [
       "<Figure size 2000x500 with 3 Axes>"
      ]
     },
     "metadata": {},
     "output_type": "display_data"
    }
   ],
   "source": [
    "# Plot the histogram of y_size, x_size, z_size in 3 subfigures\n",
    "import matplotlib.pyplot as plt\n",
    "%matplotlib inline\n",
    "fig, axes = plt.subplots(1, 3, figsize=(20, 5))\n",
    "basic_desc_df['y_size'].hist(ax=axes[0])\n",
    "basic_desc_df['x_size'].hist(ax=axes[1])\n",
    "basic_desc_df['z_size'].hist(ax=axes[2])\n",
    "axes[0].set_xlabel('y_size')\n",
    "axes[1].set_xlabel('x_size')\n",
    "axes[2].set_xlabel('z_size')\n",
    "plt.savefig('ADAM_dataset_size_histogram.png')"
   ]
  },
  {
   "cell_type": "code",
   "execution_count": 18,
   "id": "c8b4cffa",
   "metadata": {},
   "outputs": [
    {
     "data": {
      "text/plain": [
       "img_name\n",
       "10078B    1.000000\n",
       "10054B    0.700103\n",
       "10075B    0.700063\n",
       "10058B    0.700056\n",
       "10018     0.700034\n",
       "10030     0.700030\n",
       "10068B    0.700021\n",
       "10016     0.700015\n",
       "10044B    0.700014\n",
       "10012     0.700000\n",
       "Name: z_size, dtype: float64"
      ]
     },
     "execution_count": 18,
     "metadata": {},
     "output_type": "execute_result"
    }
   ],
   "source": [
    "basic_desc_df.z_size.sort_values(ascending=False).head(10)"
   ]
  },
  {
   "cell_type": "code",
   "execution_count": 20,
   "id": "4df868c7",
   "metadata": {},
   "outputs": [
    {
     "data": {
      "text/plain": [
       "img_name\n",
       "10071B    0.585938\n",
       "10056B    0.429688\n",
       "10065F    0.429688\n",
       "10059B    0.429688\n",
       "10037     0.429688\n",
       "10050F    0.390625\n",
       "10061F    0.390625\n",
       "10032     0.390625\n",
       "10060F    0.390625\n",
       "10035     0.390625\n",
       "Name: y_size, dtype: float64"
      ]
     },
     "execution_count": 20,
     "metadata": {},
     "output_type": "execute_result"
    }
   ],
   "source": [
    "basic_desc_df.y_size.sort_values(ascending=False).head(10)"
   ]
  },
  {
   "cell_type": "code",
   "execution_count": 21,
   "id": "bf45c382",
   "metadata": {},
   "outputs": [
    {
     "data": {
      "text/plain": [
       "img_name\n",
       "10071B    0.585938\n",
       "10056B    0.429688\n",
       "10065F    0.429688\n",
       "10059B    0.429688\n",
       "10037     0.429688\n",
       "10050F    0.390625\n",
       "10061F    0.390625\n",
       "10032     0.390625\n",
       "10060F    0.390625\n",
       "10035     0.390625\n",
       "Name: x_size, dtype: float64"
      ]
     },
     "execution_count": 21,
     "metadata": {},
     "output_type": "execute_result"
    }
   ],
   "source": [
    "basic_desc_df.x_size.sort_values(ascending=False).head(10)"
   ]
  },
  {
   "cell_type": "code",
   "execution_count": 22,
   "id": "0ba1c33c",
   "metadata": {},
   "outputs": [
    {
     "data": {
      "text/html": [
       "<div>\n",
       "<style scoped>\n",
       "    .dataframe tbody tr th:only-of-type {\n",
       "        vertical-align: middle;\n",
       "    }\n",
       "\n",
       "    .dataframe tbody tr th {\n",
       "        vertical-align: top;\n",
       "    }\n",
       "\n",
       "    .dataframe thead th {\n",
       "        text-align: right;\n",
       "    }\n",
       "</style>\n",
       "<table border=\"1\" class=\"dataframe\">\n",
       "  <thead>\n",
       "    <tr style=\"text-align: right;\">\n",
       "      <th></th>\n",
       "      <th>y_size</th>\n",
       "      <th>x_size</th>\n",
       "      <th>z_size</th>\n",
       "      <th>y_fov</th>\n",
       "      <th>x_fov</th>\n",
       "      <th>z_fov</th>\n",
       "      <th>aneurysm_volume</th>\n",
       "      <th>total_fov</th>\n",
       "    </tr>\n",
       "    <tr>\n",
       "      <th>img_name</th>\n",
       "      <th></th>\n",
       "      <th></th>\n",
       "      <th></th>\n",
       "      <th></th>\n",
       "      <th></th>\n",
       "      <th></th>\n",
       "      <th></th>\n",
       "      <th></th>\n",
       "    </tr>\n",
       "  </thead>\n",
       "  <tbody>\n",
       "    <tr>\n",
       "      <th>10078B</th>\n",
       "      <td>0.312500</td>\n",
       "      <td>0.312500</td>\n",
       "      <td>1.000000</td>\n",
       "      <td>160.000000</td>\n",
       "      <td>160.000000</td>\n",
       "      <td>63.999985</td>\n",
       "      <td>126.855439</td>\n",
       "      <td>1.638400e+06</td>\n",
       "    </tr>\n",
       "    <tr>\n",
       "      <th>10054B</th>\n",
       "      <td>0.312500</td>\n",
       "      <td>0.312500</td>\n",
       "      <td>0.700103</td>\n",
       "      <td>160.000000</td>\n",
       "      <td>160.000000</td>\n",
       "      <td>70.010298</td>\n",
       "      <td>33.227544</td>\n",
       "      <td>1.792264e+06</td>\n",
       "    </tr>\n",
       "    <tr>\n",
       "      <th>10071B</th>\n",
       "      <td>0.585938</td>\n",
       "      <td>0.585938</td>\n",
       "      <td>0.499925</td>\n",
       "      <td>150.000122</td>\n",
       "      <td>150.000122</td>\n",
       "      <td>49.992532</td>\n",
       "      <td>97.660893</td>\n",
       "      <td>1.124834e+06</td>\n",
       "    </tr>\n",
       "    <tr>\n",
       "      <th>10056B</th>\n",
       "      <td>0.429688</td>\n",
       "      <td>0.429688</td>\n",
       "      <td>0.400019</td>\n",
       "      <td>110.000130</td>\n",
       "      <td>110.000130</td>\n",
       "      <td>40.001935</td>\n",
       "      <td>2.215689</td>\n",
       "      <td>4.840246e+05</td>\n",
       "    </tr>\n",
       "  </tbody>\n",
       "</table>\n",
       "</div>"
      ],
      "text/plain": [
       "            y_size    x_size    z_size       y_fov       x_fov      z_fov  \\\n",
       "img_name                                                                    \n",
       "10078B    0.312500  0.312500  1.000000  160.000000  160.000000  63.999985   \n",
       "10054B    0.312500  0.312500  0.700103  160.000000  160.000000  70.010298   \n",
       "10071B    0.585938  0.585938  0.499925  150.000122  150.000122  49.992532   \n",
       "10056B    0.429688  0.429688  0.400019  110.000130  110.000130  40.001935   \n",
       "\n",
       "          aneurysm_volume     total_fov  \n",
       "img_name                                 \n",
       "10078B         126.855439  1.638400e+06  \n",
       "10054B          33.227544  1.792264e+06  \n",
       "10071B          97.660893  1.124834e+06  \n",
       "10056B           2.215689  4.840246e+05  "
      ]
     },
     "execution_count": 22,
     "metadata": {},
     "output_type": "execute_result"
    }
   ],
   "source": [
    "basic_desc_df.loc[['10078B', '10054B', '10071B', '10056B']]"
   ]
  },
  {
   "cell_type": "code",
   "execution_count": 25,
   "id": "fd64df41",
   "metadata": {},
   "outputs": [
    {
     "data": {
      "text/plain": [
       "array(['10054B', '10056B', '10071B', '10078B'], dtype='<U6')"
      ]
     },
     "execution_count": 25,
     "metadata": {},
     "output_type": "execute_result"
    }
   ],
   "source": [
    "np.sort(['10078B', '10054B', '10071B', '10056B'])"
   ]
  },
  {
   "cell_type": "markdown",
   "id": "52a2046b270c8f6b",
   "metadata": {
    "collapsed": false
   },
   "source": [
    "## 1.1 Distribution of UIAs location (per Vessel Type)"
   ]
  },
  {
   "cell_type": "code",
   "execution_count": 73,
   "id": "2b212b02",
   "metadata": {},
   "outputs": [
    {
     "data": {
      "text/plain": [
       "(652, 768, 168)"
      ]
     },
     "execution_count": 73,
     "metadata": {},
     "output_type": "execute_result"
    }
   ],
   "source": [
    "img.header.get_data_shape()"
   ]
  },
  {
   "cell_type": "code",
   "execution_count": 75,
   "id": "c0fffe7d",
   "metadata": {},
   "outputs": [
    {
     "data": {
      "text/plain": [
       "array([652, 768, 168], dtype=int16)"
      ]
     },
     "execution_count": 75,
     "metadata": {},
     "output_type": "execute_result"
    }
   ],
   "source": [
    "img.header[\"dim\"][1:4]"
   ]
  },
  {
   "cell_type": "markdown",
   "id": "df403f57d8a8dc84",
   "metadata": {
    "collapsed": false
   },
   "source": [
    "## 1.2 Distribution of UIAs location (per Vessel Type and territory)"
   ]
  },
  {
   "cell_type": "code",
   "execution_count": null,
   "id": "1270317abbb3ec8e",
   "metadata": {
    "collapsed": false
   },
   "outputs": [],
   "source": []
  },
  {
   "cell_type": "markdown",
   "id": "27e9d279d9de8739",
   "metadata": {
    "collapsed": false
   },
   "source": [
    "## 1.3 Distribution of UIAs per size"
   ]
  },
  {
   "cell_type": "markdown",
   "id": "c223776e85465003",
   "metadata": {
    "collapsed": false
   },
   "source": [
    "### Per maximum diameter \n",
    "\n",
    "For example in ranges [0, 5mm), [5mm, 10mm), [10mm, inf)"
   ]
  },
  {
   "cell_type": "markdown",
   "id": "69085b330e101695",
   "metadata": {
    "collapsed": false
   },
   "source": [
    "### Per volume"
   ]
  },
  {
   "cell_type": "code",
   "execution_count": 14,
   "id": "a5fb1b86",
   "metadata": {},
   "outputs": [
    {
     "data": {
      "text/plain": [
       "<Axes: >"
      ]
     },
     "execution_count": 14,
     "metadata": {},
     "output_type": "execute_result"
    },
    {
     "data": {
      "image/png": "[encoded data removed]",
      "text/plain": [
       "<Figure size 640x480 with 1 Axes>"
      ]
     },
     "metadata": {},
     "output_type": "display_data"
    }
   ],
   "source": [
    "basic_desc_df.aneurysm_volume.hist(bins=30)"
   ]
  },
  {
   "cell_type": "code",
   "execution_count": 15,
   "id": "21431b03",
   "metadata": {},
   "outputs": [
    {
     "data": {
      "text/plain": [
       "<Axes: >"
      ]
     },
     "execution_count": 15,
     "metadata": {},
     "output_type": "execute_result"
    },
    {
     "data": {
      "image/png": "[encoded data removed]",
      "text/plain": [
       "<Figure size 640x480 with 1 Axes>"
      ]
     },
     "metadata": {},
     "output_type": "display_data"
    }
   ],
   "source": [
    "basic_desc_df.aneurysm_volume[basic_desc_df.aneurysm_volume < 1000].hist(bins=30)"
   ]
  },
  {
   "cell_type": "code",
   "execution_count": 17,
   "id": "7d1b68de",
   "metadata": {},
   "outputs": [
    {
     "data": {
      "text/plain": [
       "img_name\n",
       "10059B    433.226897\n",
       "10071F    203.763129\n",
       "10065F    193.979644\n",
       "10050B    155.442413\n",
       "10050F    141.220059\n",
       "10073B    133.663151\n",
       "10052B    127.258119\n",
       "10078B    126.855439\n",
       "10073F    118.256179\n",
       "10078F    105.740381\n",
       "Name: aneurysm_volume, dtype: float64"
      ]
     },
     "execution_count": 17,
     "metadata": {},
     "output_type": "execute_result"
    }
   ],
   "source": [
    "basic_desc_df.aneurysm_volume.sort_values(ascending=False).head(10)"
   ]
  },
  {
   "cell_type": "markdown",
   "id": "c5cbd8c43658d781",
   "metadata": {
    "collapsed": false
   },
   "source": [
    "### Per maximum median radius"
   ]
  },
  {
   "cell_type": "markdown",
   "id": "c930558e77dbeb78",
   "metadata": {
    "collapsed": false
   },
   "source": [
    "## 1.4 Distribution of UIAs type (saccular or fusiform)"
   ]
  },
  {
   "cell_type": "code",
   "execution_count": null,
   "id": "initial_id",
   "metadata": {
    "collapsed": true
   },
   "outputs": [],
   "source": []
  }
 ],
 "metadata": {
  "kernelspec": {
   "display_name": "Python 3",
   "language": "python",
   "name": "python3"
  },
  "language_info": {
   "codemirror_mode": {
    "name": "ipython",
    "version": 3
   },
   "file_extension": ".py",
   "mimetype": "text/x-python",
   "name": "python",
   "nbconvert_exporter": "python",
   "pygments_lexer": "ipython3",
   "version": "3.9.18"
  }
 },
 "nbformat": 4,
 "nbformat_minor": 5
}
