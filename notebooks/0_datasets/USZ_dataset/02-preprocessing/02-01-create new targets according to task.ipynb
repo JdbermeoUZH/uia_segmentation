{
 "cells": [
  {
   "cell_type": "code",
   "execution_count": 34,
   "id": "initial_id",
   "metadata": {
    "ExecuteTime": {
     "end_time": "2023-12-12T13:17:21.248518928Z",
     "start_time": "2023-12-12T13:17:21.203641308Z"
    },
    "collapsed": true
   },
   "outputs": [],
   "source": [
    "import os\n",
    "import glob\n",
    "\n",
    "import numpy as np\n",
    "import nibabel as nib\n",
    "from tqdm import tqdm\n"
   ]
  },
  {
   "cell_type": "code",
   "execution_count": null,
   "id": "671fdb26",
   "metadata": {},
   "outputs": [],
   "source": [
    "data_dir = os.path.join('..', '..', 'data', 'preprocessed', 'Mathijs', 'targets USZ')\n",
    "labels_tr_dir = os.path.join(data_dir, 'labelsTr', '*.nii.gz')\n",
    "labels_ts_dir = os.path.join(data_dir, 'labelsTs', '*.nii.gz')"
   ]
  },
  {
   "cell_type": "code",
   "execution_count": 40,
   "id": "da9362524e6a58fd",
   "metadata": {
    "ExecuteTime": {
     "end_time": "2023-12-12T13:19:41.757883179Z",
     "start_time": "2023-12-12T13:19:41.746651016Z"
    },
    "collapsed": false
   },
   "outputs": [],
   "source": [
    "file_paths_train = glob.glob(labels_tr_dir)\n",
    "file_paths_test = glob.glob(labels_ts_dir)"
   ]
  },
  {
   "cell_type": "code",
   "execution_count": 41,
   "id": "9359f46cd7275ba1",
   "metadata": {
    "ExecuteTime": {
     "end_time": "2023-12-12T13:19:42.024240587Z",
     "start_time": "2023-12-12T13:19:42.012077613Z"
    },
    "collapsed": false
   },
   "outputs": [],
   "source": [
    "def binarize_segmentation(img_np, only_specific_vessel_class: int = None):\n",
    "    if not only_specific_vessel_class:\n",
    "        img_np = np.where(img_np >= 1, 1, 0)\n",
    "    else:\n",
    "        img_np = np.where(img_np == only_specific_vessel_class, 1, 0)\n",
    "    return img_np"
   ]
  },
  {
   "cell_type": "code",
   "execution_count": 44,
   "id": "2c6dfe347ac2d12d",
   "metadata": {
    "ExecuteTime": {
     "end_time": "2023-12-12T13:29:40.196721520Z",
     "start_time": "2023-12-12T13:29:39.605193582Z"
    },
    "collapsed": false
   },
   "outputs": [],
   "source": [
    "def transform_label_vols_in_dir(filepaths: list, output_dir: str, transformation: callable):\n",
    "    os.makedirs(output_dir, exist_ok=True)\n",
    "    for file_path in tqdm(filepaths):\n",
    "        img_name = os.path.basename(file_path)\n",
    "        img = nib.load(file_path)\n",
    "        img_np = img.get_fdata()\n",
    "        img_np = transformation(img_np)\n",
    "        img = nib.Nifti1Image(img_np, img.affine, img.header)\n",
    "        nib.save(img, os.path.join(output_dir, img_name))"
   ]
  },
  {
   "cell_type": "code",
   "execution_count": 65,
   "id": "b6799e54e7b5e839",
   "metadata": {
    "ExecuteTime": {
     "end_time": "2023-12-12T14:25:00.608352888Z",
     "start_time": "2023-12-12T14:25:00.589926715Z"
    },
    "collapsed": false
   },
   "outputs": [],
   "source": [
    "# collapse all classes except aneurysm into one class\n",
    "def collapse_all_classes_except_one(img_np, class_not_to_collapse: int):\n",
    "    # Collapse all clasess to the class 1 except the class_not_to_collapse\n",
    "    img_np = np.where((img_np != class_not_to_collapse) & (img_np != 0), 1.0, img_np)\n",
    "    \n",
    "    # Set the class_not_to_collapse class to 2\n",
    "    img_np = np.where(img_np == class_not_to_collapse, 2, img_np)\n",
    "    \n",
    "    return img_np.astype(np.int8)"
   ]
  },
  {
   "cell_type": "code",
   "execution_count": 63,
   "id": "604aec8a67a62041",
   "metadata": {
    "ExecuteTime": {
     "end_time": "2023-12-12T14:24:50.609341233Z",
     "start_time": "2023-12-12T14:24:43.373029161Z"
    },
    "collapsed": false
   },
   "outputs": [
    {
     "data": {
      "text/plain": [
       "array([0, 1, 2], dtype=int8)"
      ]
     },
     "execution_count": 63,
     "metadata": {},
     "output_type": "execute_result"
    }
   ],
   "source": [
    "test_img = nib.load(file_paths_train[0])\n",
    "test_img_np = test_img.get_fdata()\n",
    "\n",
    "np.unique(collapse_all_classes_except_aneurysm(test_img_np).astype(np.int8))"
   ]
  },
  {
   "cell_type": "markdown",
   "id": "c8865754a5c2e49",
   "metadata": {
    "collapsed": false
   },
   "source": [
    "# Task 1: binary segmentation: all vessels types vs background"
   ]
  },
  {
   "cell_type": "code",
   "execution_count": 45,
   "id": "e98ae36f2fea7291",
   "metadata": {
    "ExecuteTime": {
     "start_time": "2023-12-12T13:29:42.491965503Z"
    },
    "collapsed": false
   },
   "outputs": [
    {
     "name": "stderr",
     "output_type": "stream",
     "text": [
      "100%|██████████| 49/49 [03:24<00:00,  4.18s/it]\n"
     ]
    }
   ],
   "source": [
    "transform_label_vols_in_dir(\n",
    "    file_paths_train, \n",
    "    os.path.join(data_dir, 'labelsTr_binary_all_classes'),\n",
    "    binarize_segmentation\n",
    ")"
   ]
  },
  {
   "cell_type": "code",
   "execution_count": 47,
   "id": "93693f48be2fce86",
   "metadata": {
    "ExecuteTime": {
     "start_time": "2023-12-12T13:33:26.930537811Z"
    },
    "collapsed": false
   },
   "outputs": [
    {
     "name": "stderr",
     "output_type": "stream",
     "text": [
      "100%|██████████| 13/13 [00:37<00:00,  2.89s/it]\n"
     ]
    }
   ],
   "source": [
    "transform_label_vols_in_dir(\n",
    "    file_paths_test, \n",
    "    os.path.join(data_dir, 'labelsTs_binary_all_classes'),\n",
    "    binarize_segmentation\n",
    ")"
   ]
  },
  {
   "cell_type": "markdown",
   "id": "2378d43489c83f15",
   "metadata": {
    "collapsed": false
   },
   "source": [
    "# Task 2: binary segmentation: only aneurysm segmentation vs background"
   ]
  },
  {
   "cell_type": "code",
   "execution_count": 49,
   "id": "1f10f1e3dfdb9d01",
   "metadata": {
    "ExecuteTime": {
     "start_time": "2023-12-12T13:34:37.217821026Z"
    },
    "collapsed": false
   },
   "outputs": [
    {
     "name": "stderr",
     "output_type": "stream",
     "text": [
      "100%|██████████| 49/49 [01:38<00:00,  2.00s/it]\n"
     ]
    }
   ],
   "source": [
    "transform_label_vols_in_dir(\n",
    "    file_paths_train, \n",
    "    os.path.join(data_dir, 'labelsTr_binary_only_aneurysm'),\n",
    "    lambda img: binarize_segmentation(img, only_specific_vessel_class=4)\n",
    ")"
   ]
  },
  {
   "cell_type": "code",
   "execution_count": 50,
   "id": "9ed36c03754554b0",
   "metadata": {
    "ExecuteTime": {
     "start_time": "2023-12-12T13:36:15.425317037Z"
    },
    "collapsed": false
   },
   "outputs": [
    {
     "name": "stderr",
     "output_type": "stream",
     "text": [
      "100%|██████████| 13/13 [00:18<00:00,  1.39s/it]\n"
     ]
    }
   ],
   "source": [
    "transform_label_vols_in_dir(\n",
    "    file_paths_test, \n",
    "    os.path.join(data_dir, 'labelsTs_binary_only_aneurysm'),\n",
    "    lambda img: binarize_segmentation(img, only_specific_vessel_class=4)\n",
    ")"
   ]
  },
  {
   "cell_type": "markdown",
   "id": "e2a81dff715f033f",
   "metadata": {
    "collapsed": false
   },
   "source": [
    "# Task 3: 3 class segmentation, background, vessels, aneurysm"
   ]
  },
  {
   "cell_type": "code",
   "execution_count": 67,
   "id": "7bbe7671221e3f13",
   "metadata": {
    "ExecuteTime": {
     "end_time": "2023-12-12T14:27:43.699567254Z",
     "start_time": "2023-12-12T14:26:20.654325713Z"
    },
    "collapsed": false
   },
   "outputs": [
    {
     "name": "stderr",
     "output_type": "stream",
     "text": [
      "100%|██████████| 49/49 [01:23<00:00,  1.69s/it]\n"
     ]
    }
   ],
   "source": [
    "transform_label_vols_in_dir(\n",
    "    file_paths_train, \n",
    "    os.path.join(data_dir, 'labelsTr_3_classes'),\n",
    "    collapse_all_classes_except_aneurysm\n",
    ")"
   ]
  },
  {
   "cell_type": "code",
   "execution_count": 68,
   "id": "80f6cd8f1e5c1c7a",
   "metadata": {
    "ExecuteTime": {
     "end_time": "2023-12-12T14:28:07.406809776Z",
     "start_time": "2023-12-12T14:27:43.705024746Z"
    },
    "collapsed": false
   },
   "outputs": [
    {
     "name": "stderr",
     "output_type": "stream",
     "text": [
      "100%|██████████| 13/13 [00:23<00:00,  1.82s/it]\n"
     ]
    }
   ],
   "source": [
    "transform_label_vols_in_dir(\n",
    "    file_paths_test, \n",
    "    os.path.join(data_dir, 'labelsTs_3_classes'),\n",
    "    collapse_all_classes_except_aneurysm\n",
    ")"
   ]
  }
 ],
 "metadata": {
  "kernelspec": {
   "display_name": "Python 3",
   "language": "python",
   "name": "python3"
  },
  "language_info": {
   "codemirror_mode": {
    "name": "ipython",
    "version": 2
   },
   "file_extension": ".py",
   "mimetype": "text/x-python",
   "name": "python",
   "nbconvert_exporter": "python",
   "pygments_lexer": "ipython2",
   "version": "2.7.6"
  }
 },
 "nbformat": 4,
 "nbformat_minor": 5
}
