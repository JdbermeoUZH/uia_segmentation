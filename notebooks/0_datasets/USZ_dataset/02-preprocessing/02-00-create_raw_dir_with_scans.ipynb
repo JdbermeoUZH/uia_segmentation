{
 "cells": [
  {
   "cell_type": "code",
   "execution_count": 43,
   "metadata": {},
   "outputs": [],
   "source": [
    "import os\n",
    "import glob\n",
    "import json\n",
    "import shutil\n",
    "import zipfile\n",
    "from tqdm import tqdm\n",
    "\n",
    "import pandas as pd\n",
    "\n",
    "base_dir = '../../../../data/nnUNet_raw/Dataset004_21Classes'\n",
    "train_img_dir = os.path.join(base_dir, 'imagesTr')\n",
    "train_segmasks_dir = os.path.join(base_dir, 'labelsTr')\n",
    "test_img_dir = os.path.join(base_dir, 'imagesTs')\n",
    "test_segmasks_dir = os.path.join(base_dir, 'labelsTs')\n",
    "\n",
    "new_raw_dir = '../../../../data/raw/USZ'\n",
    "\n",
    "original_ids_to_num_ids = json.load(open('id_conversion.json', 'r'))\n",
    "num_ids_to_original_ids = {v: k for k, v in original_ids_to_num_ids.items()}"
   ]
  },
  {
   "cell_type": "code",
   "execution_count": 44,
   "metadata": {},
   "outputs": [],
   "source": [
    "dirs = [train_img_dir, test_img_dir, train_segmasks_dir, test_segmasks_dir]"
   ]
  },
  {
   "cell_type": "code",
   "execution_count": 46,
   "metadata": {},
   "outputs": [
    {
     "name": "stdout",
     "output_type": "stream",
     "text": [
      "imagesTr\n"
     ]
    },
    {
     "name": "stderr",
     "output_type": "stream",
     "text": [
      "100%|██████████| 49/49 [00:07<00:00,  6.29it/s]\n"
     ]
    },
    {
     "name": "stdout",
     "output_type": "stream",
     "text": [
      "imagesTs\n"
     ]
    },
    {
     "name": "stderr",
     "output_type": "stream",
     "text": [
      "100%|██████████| 13/13 [00:02<00:00,  5.97it/s]\n"
     ]
    },
    {
     "name": "stdout",
     "output_type": "stream",
     "text": [
      "labelsTr\n"
     ]
    },
    {
     "name": "stderr",
     "output_type": "stream",
     "text": [
      "100%|██████████| 49/49 [00:00<00:00, 719.53it/s]\n"
     ]
    },
    {
     "name": "stdout",
     "output_type": "stream",
     "text": [
      "labelsTs\n"
     ]
    },
    {
     "name": "stderr",
     "output_type": "stream",
     "text": [
      "100%|██████████| 13/13 [00:00<00:00, 870.45it/s]\n"
     ]
    }
   ],
   "source": [
    "for dir in dirs:\n",
    "    print(os.path.basename(dir))\n",
    "    for img_path in tqdm(glob.glob(os.path.join(dir, '*.nii.gz'))):\n",
    "        img_id = os.path.basename(img_path).split('_')[0].split('.')[0]\n",
    "        original_id = num_ids_to_original_ids[int(img_id)]\n",
    "        \n",
    "        # Make new target directory if it doesn't exist\n",
    "        scan_dir = os.path.join(new_raw_dir, original_id)\n",
    "        os.makedirs(scan_dir, exist_ok=True)\n",
    "        \n",
    "        \n",
    "        new_filename = original_id + ('_tof.nii.gz' if 'images' in img_path else '_seg.nii.gz')\n",
    "        \n",
    "        new_filepath = os.path.join(scan_dir, new_filename)\n",
    "        \n",
    "        shutil.copy(img_path, new_filepath)\n",
    "        # num_id = original_ids_to_num_ids[img_id]\n",
    "        # new_img_path = os.path.join(img_dir, f'{num_id}.nii.gz')\n",
    "        # shutil.move(img_path, new_img_path)\n"
   ]
  },
  {
   "cell_type": "code",
   "execution_count": 37,
   "metadata": {},
   "outputs": [
    {
     "data": {
      "text/plain": [
       "True"
      ]
     },
     "execution_count": 37,
     "metadata": {},
     "output_type": "execute_result"
    }
   ],
   "source": [
    "'images' in img_path"
   ]
  },
  {
   "cell_type": "code",
   "execution_count": 29,
   "metadata": {},
   "outputs": [
    {
     "data": {
      "text/plain": [
       "False"
      ]
     },
     "execution_count": 29,
     "metadata": {},
     "output_type": "execute_result"
    }
   ],
   "source": [
    "train_img_dir == '../../../../data/nnUNet_raw/Dataset004_21Classes/imagesTr'"
   ]
  },
  {
   "cell_type": "code",
   "execution_count": 27,
   "metadata": {},
   "outputs": [
    {
     "data": {
      "text/plain": [
       "['36_0000.nii.gz',\n",
       " '35_0000.nii.gz',\n",
       " '4_0000.nii.gz',\n",
       " '24_0000.nii.gz',\n",
       " '29_0000.nii.gz',\n",
       " '58_0000.nii.gz',\n",
       " '50_0000.nii.gz',\n",
       " '17_0000.nii.gz',\n",
       " '16_0000.nii.gz',\n",
       " '14_0000.nii.gz',\n",
       " '52_0000.nii.gz',\n",
       " '60_0000.nii.gz',\n",
       " '21_0000.nii.gz',\n",
       " '41_0000.nii.gz',\n",
       " '30_0000.nii.gz',\n",
       " '39_0000.nii.gz',\n",
       " '34_0000.nii.gz',\n",
       " '23_0000.nii.gz',\n",
       " '8_0000.nii.gz',\n",
       " '2_0000.nii.gz',\n",
       " '44_0000.nii.gz',\n",
       " '5_0000.nii.gz',\n",
       " '12_0000.nii.gz',\n",
       " '57_0000.nii.gz',\n",
       " '54_0000.nii.gz',\n",
       " '37_0000.nii.gz',\n",
       " '6_0000.nii.gz',\n",
       " '46_0000.nii.gz',\n",
       " '32_0000.nii.gz',\n",
       " '10_0000.nii.gz',\n",
       " '9_0000.nii.gz',\n",
       " '40_0000.nii.gz',\n",
       " '56_0000.nii.gz',\n",
       " '20_0000.nii.gz',\n",
       " '33_0000.nii.gz',\n",
       " '28_0000.nii.gz',\n",
       " '38_0000.nii.gz',\n",
       " '15_0000.nii.gz',\n",
       " '13_0000.nii.gz',\n",
       " '59_0000.nii.gz',\n",
       " '45_0000.nii.gz',\n",
       " '43_0000.nii.gz',\n",
       " '53_0000.nii.gz',\n",
       " '11_0000.nii.gz',\n",
       " '26_0000.nii.gz',\n",
       " '42_0000.nii.gz',\n",
       " '47_0000.nii.gz',\n",
       " '55_0000.nii.gz',\n",
       " '22_0000.nii.gz']"
      ]
     },
     "execution_count": 27,
     "metadata": {},
     "output_type": "execute_result"
    }
   ],
   "source": [
    "os.listdir('../../../../data/nnUNet_raw/Dataset004_21Classes/imagesTr')"
   ]
  },
  {
   "cell_type": "code",
   "execution_count": null,
   "metadata": {},
   "outputs": [],
   "source": []
  }
 ],
 "metadata": {
  "kernelspec": {
   "display_name": "nnUnet_dev",
   "language": "python",
   "name": "python3"
  },
  "language_info": {
   "codemirror_mode": {
    "name": "ipython",
    "version": 3
   },
   "file_extension": ".py",
   "mimetype": "text/x-python",
   "name": "python",
   "nbconvert_exporter": "python",
   "pygments_lexer": "ipython3",
   "version": "3.9.18"
  }
 },
 "nbformat": 4,
 "nbformat_minor": 2
}
