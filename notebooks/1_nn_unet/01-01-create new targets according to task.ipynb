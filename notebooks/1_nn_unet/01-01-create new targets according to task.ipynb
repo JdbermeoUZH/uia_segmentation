{
 "cells": [
  {
   "cell_type": "code",
   "execution_count": 34,
   "id": "initial_id",
   "metadata": {
    "collapsed": true,
    "ExecuteTime": {
     "end_time": "2023-12-12T13:17:21.248518928Z",
     "start_time": "2023-12-12T13:17:21.203641308Z"
    }
   },
   "outputs": [],
   "source": [
    "import os\n",
    "import glob\n",
    "\n",
    "import numpy as np\n",
    "import nibabel as nib\n",
    "from tqdm import tqdm"
   ]
  },
  {
   "cell_type": "code",
   "execution_count": 38,
   "outputs": [],
   "source": [
    "data_dir = os.path.join('..', '..', 'data', 'preprocessed', 'Mathijs', 'targets USZ')"
   ],
   "metadata": {
    "collapsed": false,
    "ExecuteTime": {
     "end_time": "2023-12-12T13:19:40.803843666Z",
     "start_time": "2023-12-12T13:19:40.796164880Z"
    }
   },
   "id": "4e4113bb04188aad"
  },
  {
   "cell_type": "code",
   "execution_count": 39,
   "outputs": [],
   "source": [
    "labels_tr_dir = os.path.join(data_dir, 'labelsTr', '*.nii.gz')\n",
    "labels_ts_dir = os.path.join(data_dir, 'labelsTs', '*.nii.gz')"
   ],
   "metadata": {
    "collapsed": false,
    "ExecuteTime": {
     "end_time": "2023-12-12T13:19:41.516914151Z",
     "start_time": "2023-12-12T13:19:41.505645831Z"
    }
   },
   "id": "5fd2108533274ba"
  },
  {
   "cell_type": "code",
   "execution_count": 40,
   "outputs": [],
   "source": [
    "file_paths_train = glob.glob(labels_tr_dir)\n",
    "file_paths_test = glob.glob(labels_ts_dir)"
   ],
   "metadata": {
    "collapsed": false,
    "ExecuteTime": {
     "end_time": "2023-12-12T13:19:41.757883179Z",
     "start_time": "2023-12-12T13:19:41.746651016Z"
    }
   },
   "id": "da9362524e6a58fd"
  },
  {
   "cell_type": "code",
   "execution_count": 41,
   "outputs": [],
   "source": [
    "def binarize_segmentation(img_np, only_specific_vessel_class: int = None):\n",
    "    if not only_specific_vessel_class:\n",
    "        img_np = np.where(img_np >= 1, 1, 0)\n",
    "    else:\n",
    "        img_np = np.where(img_np == only_specific_vessel_class, 1, 0)\n",
    "    return img_np"
   ],
   "metadata": {
    "collapsed": false,
    "ExecuteTime": {
     "end_time": "2023-12-12T13:19:42.024240587Z",
     "start_time": "2023-12-12T13:19:42.012077613Z"
    }
   },
   "id": "9359f46cd7275ba1"
  },
  {
   "cell_type": "code",
   "execution_count": 44,
   "outputs": [],
   "source": [
    "def transform_label_vols_in_dir(filepaths: list, output_dir: str, transformation: callable):\n",
    "    os.makedirs(output_dir, exist_ok=True)\n",
    "    for file_path in tqdm(filepaths):\n",
    "        img_name = os.path.basename(file_path)\n",
    "        img = nib.load(file_path)\n",
    "        img_np = img.get_fdata()\n",
    "        img_np = transformation(img_np)\n",
    "        img = nib.Nifti1Image(img_np, img.affine, img.header)\n",
    "        nib.save(img, os.path.join(output_dir, img_name))"
   ],
   "metadata": {
    "collapsed": false,
    "ExecuteTime": {
     "end_time": "2023-12-12T13:29:40.196721520Z",
     "start_time": "2023-12-12T13:29:39.605193582Z"
    }
   },
   "id": "2c6dfe347ac2d12d"
  },
  {
   "cell_type": "code",
   "execution_count": 65,
   "outputs": [],
   "source": [
    "# collapse all classes except aneurysm into one class\n",
    "def collapse_all_classes_except_aneurysm(img_np):\n",
    "    # Collapse all clasess to the class 1 except the aneurysm class\n",
    "    img_np = np.where((img_np != 4) & (img_np != 0), 1.0, img_np)\n",
    "    \n",
    "    # Set the aneurysm class to 2\n",
    "    img_np = np.where(img_np == 4, 2, img_np)\n",
    "    \n",
    "    return img_np.astype(np.int8)"
   ],
   "metadata": {
    "collapsed": false,
    "ExecuteTime": {
     "end_time": "2023-12-12T14:25:00.608352888Z",
     "start_time": "2023-12-12T14:25:00.589926715Z"
    }
   },
   "id": "b6799e54e7b5e839"
  },
  {
   "cell_type": "code",
   "execution_count": 63,
   "outputs": [
    {
     "data": {
      "text/plain": "array([0, 1, 2], dtype=int8)"
     },
     "execution_count": 63,
     "metadata": {},
     "output_type": "execute_result"
    }
   ],
   "source": [
    "test_img = nib.load(file_paths_train[0])\n",
    "test_img_np = test_img.get_fdata()\n",
    "\n",
    "np.unique(collapse_all_classes_except_aneurysm(test_img_np).astype(np.int8))"
   ],
   "metadata": {
    "collapsed": false,
    "ExecuteTime": {
     "end_time": "2023-12-12T14:24:50.609341233Z",
     "start_time": "2023-12-12T14:24:43.373029161Z"
    }
   },
   "id": "604aec8a67a62041"
  },
  {
   "cell_type": "markdown",
   "source": [
    "# Task 1: binary segmentation: all vessels types vs background"
   ],
   "metadata": {
    "collapsed": false
   },
   "id": "c8865754a5c2e49"
  },
  {
   "cell_type": "code",
   "execution_count": 45,
   "outputs": [
    {
     "name": "stderr",
     "output_type": "stream",
     "text": [
      "100%|██████████| 49/49 [03:24<00:00,  4.18s/it]\n"
     ]
    }
   ],
   "source": [
    "transform_label_vols_in_dir(\n",
    "    file_paths_train, \n",
    "    os.path.join(data_dir, 'labelsTr_binary_all_classes'),\n",
    "    binarize_segmentation\n",
    ")"
   ],
   "metadata": {
    "collapsed": false,
    "ExecuteTime": {
     "start_time": "2023-12-12T13:29:42.491965503Z"
    }
   },
   "id": "e98ae36f2fea7291"
  },
  {
   "cell_type": "code",
   "execution_count": 47,
   "outputs": [
    {
     "name": "stderr",
     "output_type": "stream",
     "text": [
      "100%|██████████| 13/13 [00:37<00:00,  2.89s/it]\n"
     ]
    }
   ],
   "source": [
    "transform_label_vols_in_dir(\n",
    "    file_paths_test, \n",
    "    os.path.join(data_dir, 'labelsTs_binary_all_classes'),\n",
    "    binarize_segmentation\n",
    ")"
   ],
   "metadata": {
    "collapsed": false,
    "ExecuteTime": {
     "start_time": "2023-12-12T13:33:26.930537811Z"
    }
   },
   "id": "93693f48be2fce86"
  },
  {
   "cell_type": "markdown",
   "source": [
    "# Task 2: binary segmentation: only aneurysm segmentation vs background"
   ],
   "metadata": {
    "collapsed": false
   },
   "id": "2378d43489c83f15"
  },
  {
   "cell_type": "code",
   "execution_count": 49,
   "outputs": [
    {
     "name": "stderr",
     "output_type": "stream",
     "text": [
      "100%|██████████| 49/49 [01:38<00:00,  2.00s/it]\n"
     ]
    }
   ],
   "source": [
    "transform_label_vols_in_dir(\n",
    "    file_paths_train, \n",
    "    os.path.join(data_dir, 'labelsTr_binary_only_aneurysm'),\n",
    "    lambda img: binarize_segmentation(img, only_specific_vessel_class=4)\n",
    ")"
   ],
   "metadata": {
    "collapsed": false,
    "ExecuteTime": {
     "start_time": "2023-12-12T13:34:37.217821026Z"
    }
   },
   "id": "1f10f1e3dfdb9d01"
  },
  {
   "cell_type": "code",
   "execution_count": 50,
   "outputs": [
    {
     "name": "stderr",
     "output_type": "stream",
     "text": [
      "100%|██████████| 13/13 [00:18<00:00,  1.39s/it]\n"
     ]
    }
   ],
   "source": [
    "transform_label_vols_in_dir(\n",
    "    file_paths_test, \n",
    "    os.path.join(data_dir, 'labelsTs_binary_only_aneurysm'),\n",
    "    lambda img: binarize_segmentation(img, only_specific_vessel_class=4)\n",
    ")"
   ],
   "metadata": {
    "collapsed": false,
    "ExecuteTime": {
     "start_time": "2023-12-12T13:36:15.425317037Z"
    }
   },
   "id": "9ed36c03754554b0"
  },
  {
   "cell_type": "markdown",
   "source": [
    "# Task 3: 3 class segmentation, background, vessels, aneurysm"
   ],
   "metadata": {
    "collapsed": false
   },
   "id": "e2a81dff715f033f"
  },
  {
   "cell_type": "code",
   "execution_count": 67,
   "outputs": [
    {
     "name": "stderr",
     "output_type": "stream",
     "text": [
      "100%|██████████| 49/49 [01:23<00:00,  1.69s/it]\n"
     ]
    }
   ],
   "source": [
    "transform_label_vols_in_dir(\n",
    "    file_paths_train, \n",
    "    os.path.join(data_dir, 'labelsTr_3_classes'),\n",
    "    collapse_all_classes_except_aneurysm\n",
    ")"
   ],
   "metadata": {
    "collapsed": false,
    "ExecuteTime": {
     "end_time": "2023-12-12T14:27:43.699567254Z",
     "start_time": "2023-12-12T14:26:20.654325713Z"
    }
   },
   "id": "7bbe7671221e3f13"
  },
  {
   "cell_type": "code",
   "execution_count": 68,
   "outputs": [
    {
     "name": "stderr",
     "output_type": "stream",
     "text": [
      "100%|██████████| 13/13 [00:23<00:00,  1.82s/it]\n"
     ]
    }
   ],
   "source": [
    "transform_label_vols_in_dir(\n",
    "    file_paths_test, \n",
    "    os.path.join(data_dir, 'labelsTs_3_classes'),\n",
    "    collapse_all_classes_except_aneurysm\n",
    ")"
   ],
   "metadata": {
    "collapsed": false,
    "ExecuteTime": {
     "end_time": "2023-12-12T14:28:07.406809776Z",
     "start_time": "2023-12-12T14:27:43.705024746Z"
    }
   },
   "id": "80f6cd8f1e5c1c7a"
  }
 ],
 "metadata": {
  "kernelspec": {
   "display_name": "Python 3",
   "language": "python",
   "name": "python3"
  },
  "language_info": {
   "codemirror_mode": {
    "name": "ipython",
    "version": 2
   },
   "file_extension": ".py",
   "mimetype": "text/x-python",
   "name": "python",
   "nbconvert_exporter": "python",
   "pygments_lexer": "ipython2",
   "version": "2.7.6"
  }
 },
 "nbformat": 4,
 "nbformat_minor": 5
}
